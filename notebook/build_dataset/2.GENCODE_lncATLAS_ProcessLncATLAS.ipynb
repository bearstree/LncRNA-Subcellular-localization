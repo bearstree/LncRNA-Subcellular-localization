{
 "cells": [
  {
   "cell_type": "markdown",
   "id": "f833ff00",
   "metadata": {},
   "source": [
    "## This notebook created by Jason Miller https://github.com/ShepherdCode/ShepherdML/blob/master/Localization"
   ]
  },
  {
   "cell_type": "markdown",
   "id": "fbab38ba",
   "metadata": {
    "id": "fbab38ba"
   },
   "source": [
    "## LncATLAS\n",
    "\n",
    "Publication: LncATLAS database for subcellular localization of long noncoding RNAs (2017) David Mas-Ponte, Joana Carlevaro-Fita, Emilio Palumbo, Toni Hermoso Pulido, Roderic Guigo, and Rory Johnson. RNA 23:1080–1087\n",
    "\n",
    "Publication online\n",
    "\n",
    "Here, extract just the genes with a cytoplasm:nuclear RCI value for at least one cell line.\n",
    "Transpose from row-per-cell-line to row-per-gene.\n",
    "\n",
    "Some genes were expressed in only one cell line:\n",
    "\n",
    "ENSG00000166917,nan,nan,nan,nan,nan,nan,nan,nan,nan,nan,nan,nan,nan,-0.293196,nan  \n",
    "ENSG00000167046,nan,nan,nan,nan,nan,nan,nan,nan,nan,nan,nan,nan,-1.8365,nan,nan  \n",
    "ENSG00000167117,nan,nan,nan,1.58496,nan,nan,nan,nan,nan,nan,nan,nan,nan,nan,nan  \n",
    "\n"
   ]
  },
  {
   "cell_type": "code",
   "execution_count": 1,
   "id": "my2pb-2D4vXR",
   "metadata": {
    "colab": {
     "base_uri": "https://localhost:8080/"
    },
    "executionInfo": {
     "elapsed": 3,
     "status": "ok",
     "timestamp": 1711763328991,
     "user": {
      "displayName": "Weijun Yi",
      "userId": "09680254186711267766"
     },
     "user_tz": 240
    },
    "id": "my2pb-2D4vXR",
    "outputId": "aba7532c-9f63-42f3-ae68-8ce984162c19"
   },
   "outputs": [
    {
     "name": "stdout",
     "output_type": "stream",
     "text": [
      "2025-05-19 23:26:33.859692\n"
     ]
    }
   ],
   "source": [
    "from datetime import datetime\n",
    "print(datetime.now())"
   ]
  },
  {
   "cell_type": "code",
   "execution_count": 2,
   "id": "61657ec0",
   "metadata": {
    "id": "61657ec0"
   },
   "outputs": [],
   "source": [
    "import pandas as pd\n",
    "# from cell_lines import Cell_Lines\n",
    "\n"
   ]
  },
  {
   "cell_type": "code",
   "execution_count": 3,
   "id": "C_NXpQ5x4BJT",
   "metadata": {
    "id": "C_NXpQ5x4BJT"
   },
   "outputs": [],
   "source": [
    "ATLAS_DIR=\"../../data/LncAtlas/\"\n",
    "ATLAS_DATA='lncATLAS_all_data_RCI.csv'\n",
    "CODING_OUTFILE='CNRCI_coding_genes.csv'\n",
    "NONCODING_OUTFILE='CNRCI_noncoding_genes.csv'"
   ]
  },
  {
   "cell_type": "code",
   "execution_count": 4,
   "id": "4qr2gtOc4aeT",
   "metadata": {
    "id": "4qr2gtOc4aeT"
   },
   "outputs": [],
   "source": [
    "class Cell_Lines():\n",
    "    def get_count():\n",
    "        return 15\n",
    "    def get_mapping():\n",
    "        line_to_index={}\n",
    "        line_to_index['A549']    =0\n",
    "        line_to_index['H1.hESC'] =1\n",
    "        line_to_index['HeLa.S3'] =2\n",
    "        line_to_index['HepG2']   =3\n",
    "        line_to_index['HT1080']  =4\n",
    "        line_to_index['HUVEC']   =5\n",
    "        line_to_index['MCF.7']   =6\n",
    "        line_to_index['NCI.H460']=7\n",
    "        line_to_index['NHEK']    =8\n",
    "        line_to_index['SK.MEL.5']=9\n",
    "        line_to_index['SK.N.DZ'] =10\n",
    "        line_to_index['SK.N.SH'] =11\n",
    "        line_to_index['GM12878'] =12\n",
    "        line_to_index['K562']    =13\n",
    "        line_to_index['IMR.90']  =14\n",
    "        return line_to_index\n",
    "    def get_ordered_list():\n",
    "        ordered_list = \\\n",
    "        ['A549',\\\n",
    "         'H1.hESC',\\\n",
    "         'HeLa.S3',\\\n",
    "         'HepG2',\\\n",
    "         'HT1080',\\\n",
    "         'HUVEC',\\\n",
    "         'MCF.7',\\\n",
    "         'NCI.H460',\\\n",
    "         'NHEK',\\\n",
    "         'SK.MEL.5',\\\n",
    "         'SK.N.DZ',\\\n",
    "         'SK.N.SH',\\\n",
    "         'GM12878',\\\n",
    "         'K562',\\\n",
    "         'IMR.90']\n",
    "        return ordered_list"
   ]
  },
  {
   "cell_type": "markdown",
   "id": "349a4cf9",
   "metadata": {
    "id": "349a4cf9"
   },
   "source": [
    "## Raw data"
   ]
  },
  {
   "cell_type": "code",
   "execution_count": 5,
   "id": "8gPCR5bT4evr",
   "metadata": {
    "id": "8gPCR5bT4evr"
   },
   "outputs": [],
   "source": [
    "def get_atlas_data(filepath):\n",
    "    '''\n",
    "    Read in the file with one line per gene, cell line, value (possibly invalid).\n",
    "    Create lines with all 15 values for one gene.\n",
    "    '''\n",
    "    num_cell_lines = Cell_Lines.get_count()\n",
    "    cell_line_map = Cell_Lines.get_mapping()\n",
    "    gene_to_data={}\n",
    "    with open (filepath, 'r') as handle:\n",
    "        header = None\n",
    "        for row in handle:\n",
    "            if header is None:\n",
    "                header = row\n",
    "            else:\n",
    "                row = row.strip()\n",
    "                fields = row.split(',')\n",
    "                gene_id = fields[0]\n",
    "                cell_line = fields[1]\n",
    "                data_type = fields[2]\n",
    "                value = fields[3]\n",
    "                if data_type == 'CNRCI' and value != 'NA':\n",
    "                    if gene_id not in gene_to_data:\n",
    "                        data_row = [float('nan')]*num_cell_lines\n",
    "                        gene_to_data[gene_id] = data_row\n",
    "                    rci = float(value)\n",
    "                    cell_line_index = cell_line_map[cell_line]\n",
    "                    gene_to_data[gene_id][cell_line_index] = rci\n",
    "    return gene_to_data"
   ]
  },
  {
   "cell_type": "code",
   "execution_count": 6,
   "id": "Hk0XIXkA4oNi",
   "metadata": {
    "colab": {
     "base_uri": "https://localhost:8080/"
    },
    "executionInfo": {
     "elapsed": 3402,
     "status": "ok",
     "timestamp": 1711763379667,
     "user": {
      "displayName": "Weijun Yi",
      "userId": "09680254186711267766"
     },
     "user_tz": 240
    },
    "id": "Hk0XIXkA4oNi",
    "outputId": "1ec74e68-1fb2-4b44-b704-29f5d4acf92d"
   },
   "outputs": [
    {
     "name": "stdout",
     "output_type": "stream",
     "text": [
      "2025-05-19 23:27:59.407467\n"
     ]
    }
   ],
   "source": [
    "atlas_data = get_atlas_data(ATLAS_DIR+ATLAS_DATA)\n",
    "print(datetime.now())"
   ]
  },
  {
   "cell_type": "code",
   "execution_count": 7,
   "id": "5fcb1529",
   "metadata": {
    "colab": {
     "base_uri": "https://localhost:8080/",
     "height": 424
    },
    "executionInfo": {
     "elapsed": 1087,
     "status": "ok",
     "timestamp": 1711763383789,
     "user": {
      "displayName": "Weijun Yi",
      "userId": "09680254186711267766"
     },
     "user_tz": 240
    },
    "id": "5fcb1529",
    "outputId": "6bad169c-82a6-465c-91d2-ef7d5902e114"
   },
   "outputs": [
    {
     "data": {
      "text/html": [
       "<div>\n",
       "<style scoped>\n",
       "    .dataframe tbody tr th:only-of-type {\n",
       "        vertical-align: middle;\n",
       "    }\n",
       "\n",
       "    .dataframe tbody tr th {\n",
       "        vertical-align: top;\n",
       "    }\n",
       "\n",
       "    .dataframe thead th {\n",
       "        text-align: right;\n",
       "    }\n",
       "</style>\n",
       "<table border=\"1\" class=\"dataframe\">\n",
       "  <thead>\n",
       "    <tr style=\"text-align: right;\">\n",
       "      <th></th>\n",
       "      <th>ENSEMBL ID</th>\n",
       "      <th>Data Source</th>\n",
       "      <th>Data Type</th>\n",
       "      <th>Value</th>\n",
       "      <th>Gene Name</th>\n",
       "      <th>Coding Type</th>\n",
       "      <th>Biotype</th>\n",
       "    </tr>\n",
       "  </thead>\n",
       "  <tbody>\n",
       "    <tr>\n",
       "      <th>0</th>\n",
       "      <td>ENSG00000000003</td>\n",
       "      <td>A549</td>\n",
       "      <td>CNRCI</td>\n",
       "      <td>1.08068</td>\n",
       "      <td>TSPAN6</td>\n",
       "      <td>coding</td>\n",
       "      <td>coding</td>\n",
       "    </tr>\n",
       "    <tr>\n",
       "      <th>1</th>\n",
       "      <td>ENSG00000000003</td>\n",
       "      <td>GM12878</td>\n",
       "      <td>CNRCI</td>\n",
       "      <td>NaN</td>\n",
       "      <td>TSPAN6</td>\n",
       "      <td>coding</td>\n",
       "      <td>coding</td>\n",
       "    </tr>\n",
       "    <tr>\n",
       "      <th>2</th>\n",
       "      <td>ENSG00000000003</td>\n",
       "      <td>H1.hESC</td>\n",
       "      <td>CNRCI</td>\n",
       "      <td>1.85734</td>\n",
       "      <td>TSPAN6</td>\n",
       "      <td>coding</td>\n",
       "      <td>coding</td>\n",
       "    </tr>\n",
       "    <tr>\n",
       "      <th>3</th>\n",
       "      <td>ENSG00000000003</td>\n",
       "      <td>HeLa.S3</td>\n",
       "      <td>CNRCI</td>\n",
       "      <td>1.86839</td>\n",
       "      <td>TSPAN6</td>\n",
       "      <td>coding</td>\n",
       "      <td>coding</td>\n",
       "    </tr>\n",
       "    <tr>\n",
       "      <th>4</th>\n",
       "      <td>ENSG00000000003</td>\n",
       "      <td>HepG2</td>\n",
       "      <td>CNRCI</td>\n",
       "      <td>2.29436</td>\n",
       "      <td>TSPAN6</td>\n",
       "      <td>coding</td>\n",
       "      <td>coding</td>\n",
       "    </tr>\n",
       "    <tr>\n",
       "      <th>...</th>\n",
       "      <td>...</td>\n",
       "      <td>...</td>\n",
       "      <td>...</td>\n",
       "      <td>...</td>\n",
       "      <td>...</td>\n",
       "      <td>...</td>\n",
       "      <td>...</td>\n",
       "    </tr>\n",
       "    <tr>\n",
       "      <th>714515</th>\n",
       "      <td>ENSG00000283125</td>\n",
       "      <td>NCI.H460</td>\n",
       "      <td>CNRCI</td>\n",
       "      <td>NaN</td>\n",
       "      <td>RP11-299P2.2</td>\n",
       "      <td>nc</td>\n",
       "      <td>nc</td>\n",
       "    </tr>\n",
       "    <tr>\n",
       "      <th>714516</th>\n",
       "      <td>ENSG00000283125</td>\n",
       "      <td>NHEK</td>\n",
       "      <td>CNRCI</td>\n",
       "      <td>NaN</td>\n",
       "      <td>RP11-299P2.2</td>\n",
       "      <td>nc</td>\n",
       "      <td>nc</td>\n",
       "    </tr>\n",
       "    <tr>\n",
       "      <th>714517</th>\n",
       "      <td>ENSG00000283125</td>\n",
       "      <td>SK.MEL.5</td>\n",
       "      <td>CNRCI</td>\n",
       "      <td>NaN</td>\n",
       "      <td>RP11-299P2.2</td>\n",
       "      <td>nc</td>\n",
       "      <td>nc</td>\n",
       "    </tr>\n",
       "    <tr>\n",
       "      <th>714518</th>\n",
       "      <td>ENSG00000283125</td>\n",
       "      <td>SK.N.DZ</td>\n",
       "      <td>CNRCI</td>\n",
       "      <td>NaN</td>\n",
       "      <td>RP11-299P2.2</td>\n",
       "      <td>nc</td>\n",
       "      <td>nc</td>\n",
       "    </tr>\n",
       "    <tr>\n",
       "      <th>714519</th>\n",
       "      <td>ENSG00000283125</td>\n",
       "      <td>SK.N.SH</td>\n",
       "      <td>CNRCI</td>\n",
       "      <td>NaN</td>\n",
       "      <td>RP11-299P2.2</td>\n",
       "      <td>nc</td>\n",
       "      <td>nc</td>\n",
       "    </tr>\n",
       "  </tbody>\n",
       "</table>\n",
       "<p>714520 rows × 7 columns</p>\n",
       "</div>"
      ],
      "text/plain": [
       "             ENSEMBL ID Data Source Data Type    Value     Gene Name  \\\n",
       "0       ENSG00000000003        A549     CNRCI  1.08068        TSPAN6   \n",
       "1       ENSG00000000003     GM12878     CNRCI      NaN        TSPAN6   \n",
       "2       ENSG00000000003     H1.hESC     CNRCI  1.85734        TSPAN6   \n",
       "3       ENSG00000000003     HeLa.S3     CNRCI  1.86839        TSPAN6   \n",
       "4       ENSG00000000003       HepG2     CNRCI  2.29436        TSPAN6   \n",
       "...                 ...         ...       ...      ...           ...   \n",
       "714515  ENSG00000283125    NCI.H460     CNRCI      NaN  RP11-299P2.2   \n",
       "714516  ENSG00000283125        NHEK     CNRCI      NaN  RP11-299P2.2   \n",
       "714517  ENSG00000283125    SK.MEL.5     CNRCI      NaN  RP11-299P2.2   \n",
       "714518  ENSG00000283125     SK.N.DZ     CNRCI      NaN  RP11-299P2.2   \n",
       "714519  ENSG00000283125     SK.N.SH     CNRCI      NaN  RP11-299P2.2   \n",
       "\n",
       "       Coding Type Biotype  \n",
       "0           coding  coding  \n",
       "1           coding  coding  \n",
       "2           coding  coding  \n",
       "3           coding  coding  \n",
       "4           coding  coding  \n",
       "...            ...     ...  \n",
       "714515          nc      nc  \n",
       "714516          nc      nc  \n",
       "714517          nc      nc  \n",
       "714518          nc      nc  \n",
       "714519          nc      nc  \n",
       "\n",
       "[714520 rows x 7 columns]"
      ]
     },
     "execution_count": 7,
     "metadata": {},
     "output_type": "execute_result"
    }
   ],
   "source": [
    "infile = ATLAS_DIR+ATLAS_DATA\n",
    "df=pd.read_csv(infile)\n",
    "df"
   ]
  },
  {
   "cell_type": "code",
   "execution_count": 8,
   "id": "1eChNZtZZlFt",
   "metadata": {
    "colab": {
     "base_uri": "https://localhost:8080/"
    },
    "executionInfo": {
     "elapsed": 164,
     "status": "ok",
     "timestamp": 1711551209337,
     "user": {
      "displayName": "Weijun Yi",
      "userId": "09680254186711267766"
     },
     "user_tz": 240
    },
    "id": "1eChNZtZZlFt",
    "outputId": "634b837d-1577-4d6e-a05e-2e8103d1a501"
   },
   "outputs": [
    {
     "data": {
      "text/plain": [
       "Data Type\n",
       "CNRCI     535890\n",
       "RCIc       35726\n",
       "RCIin      35726\n",
       "RCImem     35726\n",
       "RCIno      35726\n",
       "RCInp      35726\n",
       "Name: count, dtype: int64"
      ]
     },
     "execution_count": 8,
     "metadata": {},
     "output_type": "execute_result"
    }
   ],
   "source": [
    "df[\"Data Type\"].value_counts()"
   ]
  },
  {
   "cell_type": "code",
   "execution_count": 9,
   "id": "1b65ea39",
   "metadata": {
    "colab": {
     "base_uri": "https://localhost:8080/"
    },
    "executionInfo": {
     "elapsed": 163,
     "status": "ok",
     "timestamp": 1711590215674,
     "user": {
      "displayName": "Weijun Yi",
      "userId": "09680254186711267766"
     },
     "user_tz": 240
    },
    "id": "1b65ea39",
    "outputId": "5a4596b5-9779-4009-fde5-cb9c16b0e0df"
   },
   "outputs": [
    {
     "name": "stdout",
     "output_type": "stream",
     "text": [
      "Biotype\n",
      "Biotype\n",
      "coding    395940\n",
      "nc        318580\n",
      "Name: count, dtype: int64\n"
     ]
    }
   ],
   "source": [
    "# Coding Type same as Biotype in every case\n",
    "print('Biotype')\n",
    "print(df['Biotype'].value_counts())"
   ]
  },
  {
   "cell_type": "markdown",
   "id": "ed98a3f1",
   "metadata": {
    "id": "ed98a3f1"
   },
   "source": [
    "## Filtered data"
   ]
  },
  {
   "cell_type": "code",
   "execution_count": 10,
   "id": "e691106e",
   "metadata": {
    "id": "e691106e"
   },
   "outputs": [],
   "source": [
    "# Filtered for binary cytosolic-nuclear i.e. Data Type = CNRCI\n",
    "# One cell line (K562) has other values like RCIno\n",
    "bf = df.loc[df['Data Type']=='CNRCI']"
   ]
  },
  {
   "cell_type": "code",
   "execution_count": 11,
   "id": "48b02028",
   "metadata": {
    "colab": {
     "base_uri": "https://localhost:8080/",
     "height": 424
    },
    "executionInfo": {
     "elapsed": 167,
     "status": "ok",
     "timestamp": 1711763402318,
     "user": {
      "displayName": "Weijun Yi",
      "userId": "09680254186711267766"
     },
     "user_tz": 240
    },
    "id": "48b02028",
    "outputId": "265de4ce-29c9-48f8-83ea-8c95e6859654"
   },
   "outputs": [
    {
     "data": {
      "text/html": [
       "<div>\n",
       "<style scoped>\n",
       "    .dataframe tbody tr th:only-of-type {\n",
       "        vertical-align: middle;\n",
       "    }\n",
       "\n",
       "    .dataframe tbody tr th {\n",
       "        vertical-align: top;\n",
       "    }\n",
       "\n",
       "    .dataframe thead th {\n",
       "        text-align: right;\n",
       "    }\n",
       "</style>\n",
       "<table border=\"1\" class=\"dataframe\">\n",
       "  <thead>\n",
       "    <tr style=\"text-align: right;\">\n",
       "      <th></th>\n",
       "      <th>ENSEMBL ID</th>\n",
       "      <th>Data Source</th>\n",
       "      <th>Data Type</th>\n",
       "      <th>Value</th>\n",
       "      <th>Gene Name</th>\n",
       "      <th>Coding Type</th>\n",
       "      <th>Biotype</th>\n",
       "    </tr>\n",
       "  </thead>\n",
       "  <tbody>\n",
       "    <tr>\n",
       "      <th>0</th>\n",
       "      <td>ENSG00000000003</td>\n",
       "      <td>A549</td>\n",
       "      <td>CNRCI</td>\n",
       "      <td>1.080680</td>\n",
       "      <td>TSPAN6</td>\n",
       "      <td>coding</td>\n",
       "      <td>coding</td>\n",
       "    </tr>\n",
       "    <tr>\n",
       "      <th>2</th>\n",
       "      <td>ENSG00000000003</td>\n",
       "      <td>H1.hESC</td>\n",
       "      <td>CNRCI</td>\n",
       "      <td>1.857340</td>\n",
       "      <td>TSPAN6</td>\n",
       "      <td>coding</td>\n",
       "      <td>coding</td>\n",
       "    </tr>\n",
       "    <tr>\n",
       "      <th>3</th>\n",
       "      <td>ENSG00000000003</td>\n",
       "      <td>HeLa.S3</td>\n",
       "      <td>CNRCI</td>\n",
       "      <td>1.868390</td>\n",
       "      <td>TSPAN6</td>\n",
       "      <td>coding</td>\n",
       "      <td>coding</td>\n",
       "    </tr>\n",
       "    <tr>\n",
       "      <th>4</th>\n",
       "      <td>ENSG00000000003</td>\n",
       "      <td>HepG2</td>\n",
       "      <td>CNRCI</td>\n",
       "      <td>2.294360</td>\n",
       "      <td>TSPAN6</td>\n",
       "      <td>coding</td>\n",
       "      <td>coding</td>\n",
       "    </tr>\n",
       "    <tr>\n",
       "      <th>5</th>\n",
       "      <td>ENSG00000000003</td>\n",
       "      <td>HT1080</td>\n",
       "      <td>CNRCI</td>\n",
       "      <td>0.866395</td>\n",
       "      <td>TSPAN6</td>\n",
       "      <td>coding</td>\n",
       "      <td>coding</td>\n",
       "    </tr>\n",
       "    <tr>\n",
       "      <th>...</th>\n",
       "      <td>...</td>\n",
       "      <td>...</td>\n",
       "      <td>...</td>\n",
       "      <td>...</td>\n",
       "      <td>...</td>\n",
       "      <td>...</td>\n",
       "      <td>...</td>\n",
       "    </tr>\n",
       "    <tr>\n",
       "      <th>714484</th>\n",
       "      <td>ENSG00000283122</td>\n",
       "      <td>HepG2</td>\n",
       "      <td>CNRCI</td>\n",
       "      <td>-2.584960</td>\n",
       "      <td>HYMAI</td>\n",
       "      <td>nc</td>\n",
       "      <td>nc</td>\n",
       "    </tr>\n",
       "    <tr>\n",
       "      <th>714485</th>\n",
       "      <td>ENSG00000283122</td>\n",
       "      <td>HT1080</td>\n",
       "      <td>CNRCI</td>\n",
       "      <td>-1.485430</td>\n",
       "      <td>HYMAI</td>\n",
       "      <td>nc</td>\n",
       "      <td>nc</td>\n",
       "    </tr>\n",
       "    <tr>\n",
       "      <th>714487</th>\n",
       "      <td>ENSG00000283122</td>\n",
       "      <td>IMR.90</td>\n",
       "      <td>CNRCI</td>\n",
       "      <td>-3.305810</td>\n",
       "      <td>HYMAI</td>\n",
       "      <td>nc</td>\n",
       "      <td>nc</td>\n",
       "    </tr>\n",
       "    <tr>\n",
       "      <th>714494</th>\n",
       "      <td>ENSG00000283122</td>\n",
       "      <td>MCF.7</td>\n",
       "      <td>CNRCI</td>\n",
       "      <td>-3.544320</td>\n",
       "      <td>HYMAI</td>\n",
       "      <td>nc</td>\n",
       "      <td>nc</td>\n",
       "    </tr>\n",
       "    <tr>\n",
       "      <th>714499</th>\n",
       "      <td>ENSG00000283122</td>\n",
       "      <td>SK.N.SH</td>\n",
       "      <td>CNRCI</td>\n",
       "      <td>-2.611430</td>\n",
       "      <td>HYMAI</td>\n",
       "      <td>nc</td>\n",
       "      <td>nc</td>\n",
       "    </tr>\n",
       "  </tbody>\n",
       "</table>\n",
       "<p>198183 rows × 7 columns</p>\n",
       "</div>"
      ],
      "text/plain": [
       "             ENSEMBL ID Data Source Data Type     Value Gene Name Coding Type  \\\n",
       "0       ENSG00000000003        A549     CNRCI  1.080680    TSPAN6      coding   \n",
       "2       ENSG00000000003     H1.hESC     CNRCI  1.857340    TSPAN6      coding   \n",
       "3       ENSG00000000003     HeLa.S3     CNRCI  1.868390    TSPAN6      coding   \n",
       "4       ENSG00000000003       HepG2     CNRCI  2.294360    TSPAN6      coding   \n",
       "5       ENSG00000000003      HT1080     CNRCI  0.866395    TSPAN6      coding   \n",
       "...                 ...         ...       ...       ...       ...         ...   \n",
       "714484  ENSG00000283122       HepG2     CNRCI -2.584960     HYMAI          nc   \n",
       "714485  ENSG00000283122      HT1080     CNRCI -1.485430     HYMAI          nc   \n",
       "714487  ENSG00000283122      IMR.90     CNRCI -3.305810     HYMAI          nc   \n",
       "714494  ENSG00000283122       MCF.7     CNRCI -3.544320     HYMAI          nc   \n",
       "714499  ENSG00000283122     SK.N.SH     CNRCI -2.611430     HYMAI          nc   \n",
       "\n",
       "       Biotype  \n",
       "0       coding  \n",
       "2       coding  \n",
       "3       coding  \n",
       "4       coding  \n",
       "5       coding  \n",
       "...        ...  \n",
       "714484      nc  \n",
       "714485      nc  \n",
       "714487      nc  \n",
       "714494      nc  \n",
       "714499      nc  \n",
       "\n",
       "[198183 rows x 7 columns]"
      ]
     },
     "execution_count": 11,
     "metadata": {},
     "output_type": "execute_result"
    }
   ],
   "source": [
    "# Filter against Value=NaN\n",
    "qf = bf.loc[~bf['Value'].isnull()]\n",
    "qf"
   ]
  },
  {
   "cell_type": "code",
   "execution_count": 12,
   "id": "69b64fbb",
   "metadata": {
    "colab": {
     "base_uri": "https://localhost:8080/"
    },
    "executionInfo": {
     "elapsed": 153,
     "status": "ok",
     "timestamp": 1711763407147,
     "user": {
      "displayName": "Weijun Yi",
      "userId": "09680254186711267766"
     },
     "user_tz": 240
    },
    "id": "69b64fbb",
    "outputId": "d501eb7e-ea1c-4b66-e653-198c4f1cf11f"
   },
   "outputs": [
    {
     "name": "stdout",
     "output_type": "stream",
     "text": [
      "Coding values: 169966\n",
      "Noncoding values: 28217\n"
     ]
    }
   ],
   "source": [
    "coding = qf.loc[qf['Biotype']=='coding']\n",
    "print('Coding values:',len(coding))\n",
    "noncoding = qf.loc[qf['Biotype']=='nc']\n",
    "print('Noncoding values:',len(noncoding))"
   ]
  },
  {
   "cell_type": "code",
   "execution_count": 13,
   "id": "7RYbxK5zwMav",
   "metadata": {
    "colab": {
     "base_uri": "https://localhost:8080/",
     "height": 424
    },
    "executionInfo": {
     "elapsed": 237,
     "status": "ok",
     "timestamp": 1711590662568,
     "user": {
      "displayName": "Weijun Yi",
      "userId": "09680254186711267766"
     },
     "user_tz": 240
    },
    "id": "7RYbxK5zwMav",
    "outputId": "22e0e4ed-1d35-4c67-a1ee-5f72affcbf6d"
   },
   "outputs": [
    {
     "data": {
      "text/html": [
       "<div>\n",
       "<style scoped>\n",
       "    .dataframe tbody tr th:only-of-type {\n",
       "        vertical-align: middle;\n",
       "    }\n",
       "\n",
       "    .dataframe tbody tr th {\n",
       "        vertical-align: top;\n",
       "    }\n",
       "\n",
       "    .dataframe thead th {\n",
       "        text-align: right;\n",
       "    }\n",
       "</style>\n",
       "<table border=\"1\" class=\"dataframe\">\n",
       "  <thead>\n",
       "    <tr style=\"text-align: right;\">\n",
       "      <th></th>\n",
       "      <th>ENSEMBL ID</th>\n",
       "      <th>Data Source</th>\n",
       "      <th>Data Type</th>\n",
       "      <th>Value</th>\n",
       "      <th>Gene Name</th>\n",
       "      <th>Coding Type</th>\n",
       "      <th>Biotype</th>\n",
       "    </tr>\n",
       "  </thead>\n",
       "  <tbody>\n",
       "    <tr>\n",
       "      <th>31474</th>\n",
       "      <td>ENSG00000082929</td>\n",
       "      <td>MCF.7</td>\n",
       "      <td>CNRCI</td>\n",
       "      <td>1.23491</td>\n",
       "      <td>LINC01587</td>\n",
       "      <td>nc</td>\n",
       "      <td>nc</td>\n",
       "    </tr>\n",
       "    <tr>\n",
       "      <th>39740</th>\n",
       "      <td>ENSG00000093100</td>\n",
       "      <td>A549</td>\n",
       "      <td>CNRCI</td>\n",
       "      <td>-3.15798</td>\n",
       "      <td>XXbac-B461K10.4</td>\n",
       "      <td>nc</td>\n",
       "      <td>nc</td>\n",
       "    </tr>\n",
       "    <tr>\n",
       "      <th>39741</th>\n",
       "      <td>ENSG00000093100</td>\n",
       "      <td>GM12878</td>\n",
       "      <td>CNRCI</td>\n",
       "      <td>-2.00351</td>\n",
       "      <td>XXbac-B461K10.4</td>\n",
       "      <td>nc</td>\n",
       "      <td>nc</td>\n",
       "    </tr>\n",
       "    <tr>\n",
       "      <th>39742</th>\n",
       "      <td>ENSG00000093100</td>\n",
       "      <td>H1.hESC</td>\n",
       "      <td>CNRCI</td>\n",
       "      <td>-2.21820</td>\n",
       "      <td>XXbac-B461K10.4</td>\n",
       "      <td>nc</td>\n",
       "      <td>nc</td>\n",
       "    </tr>\n",
       "    <tr>\n",
       "      <th>39743</th>\n",
       "      <td>ENSG00000093100</td>\n",
       "      <td>HeLa.S3</td>\n",
       "      <td>CNRCI</td>\n",
       "      <td>-2.05661</td>\n",
       "      <td>XXbac-B461K10.4</td>\n",
       "      <td>nc</td>\n",
       "      <td>nc</td>\n",
       "    </tr>\n",
       "    <tr>\n",
       "      <th>...</th>\n",
       "      <td>...</td>\n",
       "      <td>...</td>\n",
       "      <td>...</td>\n",
       "      <td>...</td>\n",
       "      <td>...</td>\n",
       "      <td>...</td>\n",
       "      <td>...</td>\n",
       "    </tr>\n",
       "    <tr>\n",
       "      <th>714484</th>\n",
       "      <td>ENSG00000283122</td>\n",
       "      <td>HepG2</td>\n",
       "      <td>CNRCI</td>\n",
       "      <td>-2.58496</td>\n",
       "      <td>HYMAI</td>\n",
       "      <td>nc</td>\n",
       "      <td>nc</td>\n",
       "    </tr>\n",
       "    <tr>\n",
       "      <th>714485</th>\n",
       "      <td>ENSG00000283122</td>\n",
       "      <td>HT1080</td>\n",
       "      <td>CNRCI</td>\n",
       "      <td>-1.48543</td>\n",
       "      <td>HYMAI</td>\n",
       "      <td>nc</td>\n",
       "      <td>nc</td>\n",
       "    </tr>\n",
       "    <tr>\n",
       "      <th>714487</th>\n",
       "      <td>ENSG00000283122</td>\n",
       "      <td>IMR.90</td>\n",
       "      <td>CNRCI</td>\n",
       "      <td>-3.30581</td>\n",
       "      <td>HYMAI</td>\n",
       "      <td>nc</td>\n",
       "      <td>nc</td>\n",
       "    </tr>\n",
       "    <tr>\n",
       "      <th>714494</th>\n",
       "      <td>ENSG00000283122</td>\n",
       "      <td>MCF.7</td>\n",
       "      <td>CNRCI</td>\n",
       "      <td>-3.54432</td>\n",
       "      <td>HYMAI</td>\n",
       "      <td>nc</td>\n",
       "      <td>nc</td>\n",
       "    </tr>\n",
       "    <tr>\n",
       "      <th>714499</th>\n",
       "      <td>ENSG00000283122</td>\n",
       "      <td>SK.N.SH</td>\n",
       "      <td>CNRCI</td>\n",
       "      <td>-2.61143</td>\n",
       "      <td>HYMAI</td>\n",
       "      <td>nc</td>\n",
       "      <td>nc</td>\n",
       "    </tr>\n",
       "  </tbody>\n",
       "</table>\n",
       "<p>28217 rows × 7 columns</p>\n",
       "</div>"
      ],
      "text/plain": [
       "             ENSEMBL ID Data Source Data Type    Value        Gene Name  \\\n",
       "31474   ENSG00000082929       MCF.7     CNRCI  1.23491        LINC01587   \n",
       "39740   ENSG00000093100        A549     CNRCI -3.15798  XXbac-B461K10.4   \n",
       "39741   ENSG00000093100     GM12878     CNRCI -2.00351  XXbac-B461K10.4   \n",
       "39742   ENSG00000093100     H1.hESC     CNRCI -2.21820  XXbac-B461K10.4   \n",
       "39743   ENSG00000093100     HeLa.S3     CNRCI -2.05661  XXbac-B461K10.4   \n",
       "...                 ...         ...       ...      ...              ...   \n",
       "714484  ENSG00000283122       HepG2     CNRCI -2.58496            HYMAI   \n",
       "714485  ENSG00000283122      HT1080     CNRCI -1.48543            HYMAI   \n",
       "714487  ENSG00000283122      IMR.90     CNRCI -3.30581            HYMAI   \n",
       "714494  ENSG00000283122       MCF.7     CNRCI -3.54432            HYMAI   \n",
       "714499  ENSG00000283122     SK.N.SH     CNRCI -2.61143            HYMAI   \n",
       "\n",
       "       Coding Type Biotype  \n",
       "31474           nc      nc  \n",
       "39740           nc      nc  \n",
       "39741           nc      nc  \n",
       "39742           nc      nc  \n",
       "39743           nc      nc  \n",
       "...            ...     ...  \n",
       "714484          nc      nc  \n",
       "714485          nc      nc  \n",
       "714487          nc      nc  \n",
       "714494          nc      nc  \n",
       "714499          nc      nc  \n",
       "\n",
       "[28217 rows x 7 columns]"
      ]
     },
     "execution_count": 13,
     "metadata": {},
     "output_type": "execute_result"
    }
   ],
   "source": [
    "noncoding"
   ]
  },
  {
   "cell_type": "code",
   "execution_count": 14,
   "id": "e0694cbf",
   "metadata": {
    "colab": {
     "base_uri": "https://localhost:8080/"
    },
    "executionInfo": {
     "elapsed": 155,
     "status": "ok",
     "timestamp": 1711763419869,
     "user": {
      "displayName": "Weijun Yi",
      "userId": "09680254186711267766"
     },
     "user_tz": 240
    },
    "id": "e0694cbf",
    "outputId": "e016a07a-8820-402a-9f3a-dcffb24304f5"
   },
   "outputs": [
    {
     "data": {
      "text/plain": [
       "['gene_id',\n",
       " 'A549',\n",
       " 'H1.hESC',\n",
       " 'HeLa.S3',\n",
       " 'HepG2',\n",
       " 'HT1080',\n",
       " 'HUVEC',\n",
       " 'MCF.7',\n",
       " 'NCI.H460',\n",
       " 'NHEK',\n",
       " 'SK.MEL.5',\n",
       " 'SK.N.DZ',\n",
       " 'SK.N.SH',\n",
       " 'GM12878',\n",
       " 'K562',\n",
       " 'IMR.90']"
      ]
     },
     "execution_count": 14,
     "metadata": {},
     "output_type": "execute_result"
    }
   ],
   "source": [
    "# Assume the coding and noncoding dataframes have the same cell lines\n",
    "# Use the cell line names as csv column headers\n",
    "cell_line_names = list(coding['Data Source'].unique())\n",
    "column_names = ['gene_id']+cell_line_names\n",
    "column_names"
   ]
  },
  {
   "cell_type": "code",
   "execution_count": 15,
   "id": "42b9ce96",
   "metadata": {
    "colab": {
     "base_uri": "https://localhost:8080/"
    },
    "executionInfo": {
     "elapsed": 176,
     "status": "ok",
     "timestamp": 1711763423868,
     "user": {
      "displayName": "Weijun Yi",
      "userId": "09680254186711267766"
     },
     "user_tz": 240
    },
    "id": "42b9ce96",
    "outputId": "a511c515-5403-4d90-8605-f33ef815ae8b"
   },
   "outputs": [
    {
     "name": "stdout",
     "output_type": "stream",
     "text": [
      "LINE NAMES {'A549': 0, 'H1.hESC': 1, 'HeLa.S3': 2, 'HepG2': 3, 'HT1080': 4, 'HUVEC': 5, 'MCF.7': 6, 'NCI.H460': 7, 'NHEK': 8, 'SK.MEL.5': 9, 'SK.N.DZ': 10, 'SK.N.SH': 11, 'GM12878': 12, 'K562': 13, 'IMR.90': 14}\n",
      "LINE COUNT 15\n"
     ]
    }
   ],
   "source": [
    "line_to_index = Cell_Lines.get_mapping()\n",
    "NUMBER_OF_LINES=Cell_Lines.get_count()\n",
    "print('LINE NAMES',line_to_index)\n",
    "print('LINE COUNT',NUMBER_OF_LINES)"
   ]
  },
  {
   "cell_type": "code",
   "execution_count": 16,
   "id": "d29a5e99",
   "metadata": {
    "id": "d29a5e99"
   },
   "outputs": [],
   "source": [
    "class values_one_gene():\n",
    "    '''Capture one gene_id plus all its RCI value for each cell line.'''\n",
    "    def __init__(self,gene):\n",
    "        self.gene_id = gene\n",
    "        self.values = [float('nan')] * NUMBER_OF_LINES\n",
    "    def __repr__(self):\n",
    "        return str(self.values)\n",
    "    def add(self,cell_line,RCI_value):\n",
    "        index = line_to_index[cell_line]\n",
    "        self.values[index] = RCI_value\n",
    "    def get_values(self):\n",
    "        return self.values"
   ]
  },
  {
   "cell_type": "code",
   "execution_count": 17,
   "id": "cbf10270",
   "metadata": {
    "id": "cbf10270"
   },
   "outputs": [],
   "source": [
    "def populate_gene_values(df):\n",
    "    '''Transform the given dataframe (one value per gene+cell_line)\n",
    "    to a dict (key = gene, value = values_one_gene)'''\n",
    "    all_genes = {}\n",
    "    for ndx,row in df.iterrows():\n",
    "        gene_id   = row['ENSEMBL ID']\n",
    "        RCI_value = row['Value']\n",
    "        cell_line = row['Data Source']\n",
    "        if gene_id in all_genes:\n",
    "            values = all_genes[gene_id]\n",
    "            values.add(cell_line,RCI_value)\n",
    "        else:\n",
    "            values = values_one_gene(gene_id)\n",
    "            values.add(cell_line,RCI_value)\n",
    "            all_genes[gene_id] = values\n",
    "    return all_genes"
   ]
  },
  {
   "cell_type": "code",
   "execution_count": 18,
   "id": "6f588392",
   "metadata": {
    "colab": {
     "base_uri": "https://localhost:8080/"
    },
    "executionInfo": {
     "elapsed": 10973,
     "status": "ok",
     "timestamp": 1711763446080,
     "user": {
      "displayName": "Weijun Yi",
      "userId": "09680254186711267766"
     },
     "user_tz": 240
    },
    "id": "6f588392",
    "outputId": "7d3e1347-9f83-4de3-b5a4-632529ae7bcf"
   },
   "outputs": [
    {
     "name": "stdout",
     "output_type": "stream",
     "text": [
      "coding...\n",
      "noncoding...\n",
      "done\n"
     ]
    }
   ],
   "source": [
    "print('coding...')\n",
    "coding_gene_map = populate_gene_values(coding)\n",
    "print('noncoding...')\n",
    "noncoding_gene_map = populate_gene_values(noncoding)\n",
    "print('done')"
   ]
  },
  {
   "cell_type": "code",
   "execution_count": 19,
   "id": "xsI76ySpvfmo",
   "metadata": {
    "colab": {
     "base_uri": "https://localhost:8080/"
    },
    "executionInfo": {
     "elapsed": 3,
     "status": "ok",
     "timestamp": 1711763661793,
     "user": {
      "displayName": "Weijun Yi",
      "userId": "09680254186711267766"
     },
     "user_tz": 240
    },
    "id": "xsI76ySpvfmo",
    "outputId": "3bd11671-b596-478c-c007-28282a4ee24f"
   },
   "outputs": [
    {
     "data": {
      "text/plain": [
       "6768"
      ]
     },
     "execution_count": 19,
     "metadata": {},
     "output_type": "execute_result"
    }
   ],
   "source": [
    "len(noncoding_gene_map)"
   ]
  },
  {
   "cell_type": "code",
   "execution_count": 20,
   "id": "4ee365bb",
   "metadata": {
    "id": "4ee365bb"
   },
   "outputs": [],
   "source": [
    "def save_to_csv(gene_to_RCI_map,fn):\n",
    "    with open(fn,'w') as handle:\n",
    "        handle.write(\",\".join(column_names) + '\\n')\n",
    "        for key,vog in gene_to_RCI_map.items():\n",
    "            handle.write(key + ',')\n",
    "            values = vog.get_values()\n",
    "            L = len(values)\n",
    "            for i in range(L-1):\n",
    "                handle.write(str(values[i]) + ',')\n",
    "            handle.write(str(values[L-1]) + '\\n')"
   ]
  },
  {
   "cell_type": "code",
   "execution_count": 21,
   "id": "de661bfb",
   "metadata": {
    "colab": {
     "base_uri": "https://localhost:8080/"
    },
    "executionInfo": {
     "elapsed": 532,
     "status": "ok",
     "timestamp": 1711763455007,
     "user": {
      "displayName": "Weijun Yi",
      "userId": "09680254186711267766"
     },
     "user_tz": 240
    },
    "id": "de661bfb",
    "outputId": "d7d08193-f4ee-48bf-aca7-64f8b34c35a1"
   },
   "outputs": [
    {
     "name": "stdout",
     "output_type": "stream",
     "text": [
      "coding...\n",
      "noncoding...\n",
      "done\n"
     ]
    }
   ],
   "source": [
    "print('coding...')\n",
    "save_to_csv(coding_gene_map, ATLAS_DIR+CODING_OUTFILE)\n",
    "print('noncoding...')\n",
    "save_to_csv(noncoding_gene_map, ATLAS_DIR+NONCODING_OUTFILE)\n",
    "print('done')"
   ]
  },
  {
   "cell_type": "code",
   "execution_count": 22,
   "id": "b7e16564",
   "metadata": {
    "colab": {
     "base_uri": "https://localhost:8080/"
    },
    "executionInfo": {
     "elapsed": 164,
     "status": "ok",
     "timestamp": 1711763687371,
     "user": {
      "displayName": "Weijun Yi",
      "userId": "09680254186711267766"
     },
     "user_tz": 240
    },
    "id": "b7e16564",
    "outputId": "80a926cb-c4d0-4ab0-d659-ab0e4d3a05b8"
   },
   "outputs": [
    {
     "data": {
      "text/plain": [
       "17770"
      ]
     },
     "execution_count": 22,
     "metadata": {},
     "output_type": "execute_result"
    }
   ],
   "source": [
    "len(coding_gene_map)"
   ]
  }
 ],
 "metadata": {
  "colab": {
   "provenance": []
  },
  "kernelspec": {
   "display_name": "Python 3 (ipykernel)",
   "language": "python",
   "name": "python3"
  },
  "language_info": {
   "codemirror_mode": {
    "name": "ipython",
    "version": 3
   },
   "file_extension": ".py",
   "mimetype": "text/x-python",
   "name": "python",
   "nbconvert_exporter": "python",
   "pygments_lexer": "ipython3",
   "version": "3.10.15"
  }
 },
 "nbformat": 4,
 "nbformat_minor": 5
}
