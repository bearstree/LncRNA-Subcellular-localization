{
 "cells": [
  {
   "cell_type": "code",
   "execution_count": 1,
   "id": "da6ab754",
   "metadata": {
    "executionInfo": {
     "elapsed": 747,
     "status": "ok",
     "timestamp": 1711762073850,
     "user": {
      "displayName": "Weijun Yi",
      "userId": "09680254186711267766"
     },
     "user_tz": 240
    },
    "id": "da6ab754"
   },
   "outputs": [],
   "source": [
    "import pandas as pd\n",
    "import os"
   ]
  },
  {
   "cell_type": "code",
   "execution_count": 2,
   "id": "11641518",
   "metadata": {},
   "outputs": [
    {
     "data": {
      "text/plain": [
       "['CNRCI_coding_genes.csv',\n",
       " 'CNRCI_coding_test_transcripts.gc42.csv',\n",
       " 'CNRCI_coding_train_transcripts.gc42.csv',\n",
       " 'CNRCI_noncoding_genes.csv',\n",
       " 'CNRCI_noncoding_test_genes.gc42.csv',\n",
       " 'CNRCI_noncoding_test_transcripts.gc42.csv',\n",
       " 'CNRCI_noncoding_train_genes.gc42.csv',\n",
       " 'CNRCI_noncoding_train_transcripts.gc42.csv',\n",
       " 'lncATLAS_all_data_RCI.csv']"
      ]
     },
     "execution_count": 2,
     "metadata": {},
     "output_type": "execute_result"
    }
   ],
   "source": [
    "path_input = \"../../data/lncAtlas/\"\n",
    "os.listdir(path_input)"
   ]
  },
  {
   "cell_type": "code",
   "execution_count": 3,
   "id": "ad4e4363",
   "metadata": {
    "id": "ad4e4363"
   },
   "outputs": [],
   "source": [
    "lnc_location = pd.read_csv(path_input+\"CNRCI_noncoding_genes.csv\")\n",
    "nc_location = pd.read_csv(path_input+\"CNRCI_coding_genes.csv\")\n",
    "lnc_transcript_train = pd.read_csv(path_input+'CNRCI_noncoding_train_transcripts.gc42.csv')\n",
    "lnc_transcript_test = pd.read_csv(path_input+'CNRCI_noncoding_test_transcripts.gc42.csv')\n",
    "locations = pd.concat([lnc_location,nc_location]).reset_index(drop=True)"
   ]
  },
  {
   "cell_type": "code",
   "execution_count": 10,
   "id": "50d3ae8c",
   "metadata": {
    "id": "50d3ae8c",
    "outputId": "f7cf6c5d-02fa-4f9c-a5de-f8fdcee483be"
   },
   "outputs": [],
   "source": [
    "lnc_longest_train = lnc_transcript_train[lnc_transcript_train.length.between(200,5000,inclusive=\"both\")].sort_values(by=\"length\",ascending=False).drop_duplicates(subset=\"gene_id\").reset_index(drop=True)\n",
    "lnc_longest_test = lnc_transcript_test[lnc_transcript_test.length.between(200,5000,inclusive=\"both\")].sort_values(by=\"length\",ascending=False).drop_duplicates(subset=\"gene_id\").reset_index(drop=True)\n",
    "lnc_seq_with_rci_train = pd.merge(lnc_longest_train,locations,on=\"gene_id\")\n",
    "lnc_seq_with_rci_test = pd.merge(lnc_longest_test,locations,on=\"gene_id\")\n",
    "lnc_seq_with_rci_train.to_csv(\"../../data/Supplementary_Table3_lncRNA_train_seq_with_RCI_longest_transcripts.csv\")\n",
    "lnc_seq_with_rci_test.to_csv(\"../../data/Supplementary_Table4_lncRNA_test_seq_with_RCI_longest_transcripts.csv\")"
   ]
  },
  {
   "cell_type": "code",
   "execution_count": 11,
   "id": "eb73618c",
   "metadata": {},
   "outputs": [],
   "source": [
    "m_transcript_train = pd.read_csv(path_input+'CNRCI_coding_train_transcripts.gc42.csv')\n",
    "m_transcript_test = pd.read_csv(path_input+'CNRCI_coding_test_transcripts.gc42.csv')\n",
    "\n",
    "m_longest_train = m_transcript_train[m_transcript_train.length.between(200,5000,inclusive=\"both\")].sort_values(by=\"length\",ascending=False).drop_duplicates(subset=\"gene_id\").reset_index(drop=True)\n",
    "m_longest_test = m_transcript_test[m_transcript_test.length.between(200,5000,inclusive=\"both\")].sort_values(by=\"length\",ascending=False).drop_duplicates(subset=\"gene_id\").reset_index(drop=True)\n",
    "m_seq_with_rci_train = pd.merge(m_longest_train,locations,on=\"gene_id\")\n",
    "m_seq_with_rci_test = pd.merge(m_longest_test,locations,on=\"gene_id\")\n",
    "m_seq_with_rci_train.to_csv(\"../../data/Supplementary_Table5_mRNA_train_seq_with_RCI_longest_transcripts.csv\")\n",
    "m_seq_with_rci_test.to_csv(\"../../data/Supplementary_Table6_mRNA_test_seq_with_RCI_longest_transcripts.csv\")"
   ]
  }
 ],
 "metadata": {
  "colab": {
   "provenance": []
  },
  "kernelspec": {
   "display_name": "Python 3 (ipykernel)",
   "language": "python",
   "name": "python3"
  },
  "language_info": {
   "codemirror_mode": {
    "name": "ipython",
    "version": 3
   },
   "file_extension": ".py",
   "mimetype": "text/x-python",
   "name": "python",
   "nbconvert_exporter": "python",
   "pygments_lexer": "ipython3",
   "version": "3.10.15"
  }
 },
 "nbformat": 4,
 "nbformat_minor": 5
}
