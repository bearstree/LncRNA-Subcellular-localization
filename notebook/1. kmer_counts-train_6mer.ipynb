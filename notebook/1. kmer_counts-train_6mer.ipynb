{
 "cells": [
  {
   "cell_type": "code",
   "execution_count": 1,
   "id": "e6ddcd1a",
   "metadata": {},
   "outputs": [],
   "source": [
    "import pandas as pd\n",
    "from collections import defaultdict\n",
    "from itertools import product\n",
    "import numpy as np\n",
    "import scipy.stats\n",
    "from scipy.stats import norm\n",
    "import matplotlib.pyplot as plt \n",
    "import seaborn as sns\n",
    "import statistics"
   ]
  },
  {
   "cell_type": "code",
   "execution_count": 2,
   "id": "bdcfaded",
   "metadata": {},
   "outputs": [
    {
     "data": {
      "text/plain": [
       "['data', 'notebook']"
      ]
     },
     "execution_count": 2,
     "metadata": {},
     "output_type": "execute_result"
    }
   ],
   "source": [
    "import os\n",
    "os.listdir(\"../\")"
   ]
  },
  {
   "cell_type": "code",
   "execution_count": 3,
   "id": "f81bdcd0",
   "metadata": {},
   "outputs": [],
   "source": [
    "path_input = \"../data/\"\n",
    "path_output = \"../data/mer6/\"\n",
    "os.makedirs(path_output, exist_ok=True)"
   ]
  },
  {
   "cell_type": "code",
   "execution_count": 4,
   "id": "ad552017",
   "metadata": {},
   "outputs": [
    {
     "data": {
      "text/plain": [
       "['mer6',\n",
       " 'Supplementary Table10_apex_mRNA_transcripts.csv',\n",
       " 'Supplementary Table9_apex_lncRNA_transcripts.csv',\n",
       " 'Supplementary_Table3_lncRNA_train_seq_with_RCI_longest_transcripts.csv',\n",
       " 'Supplementary_Table4_lncRNA_test_seq_with_RCI_longest_transcripts.csv',\n",
       " 'Supplementary_Table5_mRNA_train_seq_with_RCI_longest_transcripts.csv',\n",
       " 'Supplementary_Table6_mRNA_test_seq_with_RCI_longest_transcripts.csv',\n",
       " 'Supplementary_Table7_mean_RCI_positive.canonical.tsv',\n",
       " 'Supplementary_Table8_mean_RCI_negative.canonical.tsv']"
      ]
     },
     "execution_count": 4,
     "metadata": {},
     "output_type": "execute_result"
    }
   ],
   "source": [
    "os.listdir(\"../data/\")"
   ]
  },
  {
   "cell_type": "code",
   "execution_count": 5,
   "id": "25c2ee66",
   "metadata": {},
   "outputs": [],
   "source": [
    "build_kmer_for_seq = \"Supplementary_Table3_lncRNA_train_seq_with_RCI_longest_transcripts.csv\""
   ]
  },
  {
   "cell_type": "code",
   "execution_count": 6,
   "id": "61983ee7",
   "metadata": {},
   "outputs": [],
   "source": [
    "train_set = pd.read_csv(path_input + build_kmer_for_seq,index_col=0)\n",
    "\n",
    "# train_A549 = train_set.iloc[:,:6].dropna(how=\"any\").reset_index(drop=True)\n",
    "# mean = train_A549[\"A549\"].mean()\n",
    "# std = np.std(train_A549[\"A549\"])\n",
    "# print(\"mean \" + str(round(mean,3)))\n",
    "# print(\"std \"+str(round(std,3)))\n",
    "# print(\"max \"+str(round(train_A549[\"A549\"].max(),3)))\n",
    "# print(\"min \"+str(round(train_A549[\"A549\"].min(),3)))\n",
    "# print(\"The size of test set: \"+str(len(train_set)))\n",
    "# print(train_A549.head(2))\n",
    "\n",
    "# fig = plt.figure()\n",
    "# sns.set_style('darkgrid')\n",
    "\n",
    "# ax = sns.histplot(train_A549[\"A549\"],kde=True, stat=\"density\")\n",
    "# plt.axvline(mean,color=\"red\",label = 'mean '+str(round(mean,3)))\n",
    "# plt.axvline(mean+std,color=\"yellow\",label = 'mean + 0.25 std '+str(round(mean+0.25*std,3))+\". With \"+str(len(train_A549[train_A549[\"A549\"]>mean+0.25*std]))+\" entries\")\n",
    "# plt.axvline(mean-std,color=\"brown\",label = 'mean - 0.25 std '+str(round(mean-0.25*std,3))+\". With \"+str(len(train_A549[train_A549[\"A549\"]<mean-0.25*std]))+\" entries\")\n",
    "# plt.legend(loc = 'upper right')\n",
    "\n",
    "# plt.show()"
   ]
  },
  {
   "cell_type": "markdown",
   "id": "b9bca631",
   "metadata": {},
   "source": [
    "## 6mer. cnts0,cnts1,cnts2 means exact, 1 mismatch, 2 mismatch "
   ]
  },
  {
   "cell_type": "code",
   "execution_count": 7,
   "id": "34d6452e",
   "metadata": {},
   "outputs": [
    {
     "name": "stdout",
     "output_type": "stream",
     "text": [
      "counts  0\n"
     ]
    }
   ],
   "source": [
    "def hamming_distance(x,y):\n",
    "    \"\"\"Calculate the Hamming distance between two bit strings\"\"\"\n",
    "    return sum(xi != yi for xi, yi in zip(x, y))\n",
    "\n",
    "## cnts0,cnts1,cnts2 means exact, 1 mismatch, 2 mismatch \n",
    "def occurrences(seq, qmers,q):\n",
    "    cnts0,cnts1,cnts2,cnts3 = defaultdict(int),defaultdict(int),defaultdict(int),defaultdict(int)\n",
    "    length = len(seq)\n",
    "    row0 = {q:i for q,i in zip(qmers, np.zeros(4**q))}\n",
    "    row1 = {q:i for q,i in zip(qmers, np.zeros(4**q))}\n",
    "    row2 = {q:i for q,i in zip(qmers, np.zeros(4**q))}\n",
    "    row3 = {q:i for q,i in zip(qmers, np.zeros(4**q))}\n",
    "    \n",
    "    idx = np.zeros(len(seq),dtype=\"int\")\n",
    "    increment = 1\n",
    "    for c in range(length-q+1):\n",
    "        if seq[c] in [\"A\",\"C\",\"G\",\"T\"]:\n",
    "            kmer = seq[c:c+q]\n",
    "            if idx[c] == 1 :\n",
    "                continue\n",
    "            else:\n",
    "                for j in range(length-q+1):\n",
    "                    dist = hamming_distance(kmer, seq[j:j+q])\n",
    "                    if dist == 0:\n",
    "                        cnts0[kmer] += increment\n",
    "                        idx[j] = 1\n",
    "                    elif dist == 1:\n",
    "                        cnts1[kmer] += increment\n",
    "                    elif dist == 2:\n",
    "                        cnts2[kmer] += increment\n",
    "                    elif dist == 3:\n",
    "                        cnts3[kmer] += increment\n",
    "                        \n",
    "        else:\n",
    "            continue\n",
    "     \n",
    "        \n",
    "    for _kmer, n in cnts0.items():\n",
    "        if _kmer in row0:\n",
    "            row0[_kmer] = n\n",
    "    for _kmer, n in cnts1.items():\n",
    "        if _kmer in row1:\n",
    "            row1[_kmer] = n\n",
    "    for _kmer, n in cnts2.items():\n",
    "        if _kmer in row2:\n",
    "            row2[_kmer] = n\n",
    "    for _kmer, n in cnts3.items():\n",
    "        if _kmer in row3:\n",
    "            row3[_kmer] = n\n",
    "\n",
    "            \n",
    "    return row0.values(),row1.values(),row2.values(),row3.values()\n",
    "\n",
    "cols_train = train_set.columns\n",
    "\n",
    "\n",
    "q = 6\n",
    "kmers = [''.join(i) for i in product(\"ACGT\", repeat=q)]\n",
    "\n",
    "seqs = train_set.sequence\n",
    "#         map = {q:i for q,i in zip(kmers, np.zeros(4**q))}\n",
    "counts0 = np.zeros([len(train_set), 4**q], dtype=int)\n",
    "counts1 = np.zeros([len(train_set), 4**q], dtype=int)\n",
    "counts2 = np.zeros([len(train_set), 4**q], dtype=int)\n",
    "counts3 = np.zeros([len(train_set), 4**q], dtype=int)\n",
    "\n",
    "for i in range(len(train_set)):\n",
    "    a,b,c,d = occurrences(seqs[i],kmers,q)\n",
    "    counts0[i] = list(a)\n",
    "    counts1[i] = list(b)\n",
    "    counts2[i] = list(c)\n",
    "    counts3[i] = list(d)\n",
    "\n",
    "    if i % 800==0:\n",
    "        print(\"counts \", i)\n",
    "    if i == 1:\n",
    "        break\n",
    "kmer_counts0 = pd.DataFrame(data=counts0,columns=list(kmers))\n",
    "kmer_counts1 = pd.DataFrame(data=counts1,columns=list(kmers))\n",
    "kmer_counts2 = pd.DataFrame(data=counts2,columns=list(kmers))\n",
    "kmer_counts3 = pd.DataFrame(data=counts3,columns=list(kmers))\n",
    "\n",
    "_kmer0miss = kmer_counts0\n",
    "_kmer1miss = kmer_counts0 + kmer_counts1\n",
    "_kmer2miss = kmer_counts0 + kmer_counts1 + kmer_counts2\n",
    "_kmer3miss = kmer_counts0 + kmer_counts1 + kmer_counts2 + kmer_counts3\n",
    "\n",
    "\n",
    "_kmer0miss[cols_train] = train_set[cols_train]\n",
    "_kmer1miss[cols_train] = train_set[cols_train]\n",
    "_kmer2miss[cols_train] = train_set[cols_train]\n",
    "_kmer3miss[cols_train] = train_set[cols_train]\n",
    "\n",
    "\n",
    "\n",
    "_kmer0miss.to_csv(path_output + \"rawcounts_coding_apex_6mer0miss_200-5000_longest.csv\",mode='w',encoding='utf8')\n",
    "_kmer1miss.to_csv(path_output + \"rawcounts_coding_apex_6mer1miss_200-5000_longest.csv\",mode='w',encoding='utf8')\n",
    "_kmer2miss.to_csv(path_output + \"rawcounts_coding_apex_6mer2miss_200-5000_longest.csv\",mode='w',encoding='utf8')\n",
    "_kmer3miss.to_csv(path_output + \"rawcounts_coding_apex_6mer3miss_200-5000_longest.csv\",mode='w',encoding='utf8')"
   ]
  },
  {
   "cell_type": "code",
   "execution_count": null,
   "id": "8dea79e8",
   "metadata": {},
   "outputs": [],
   "source": []
  }
 ],
 "metadata": {
  "kernelspec": {
   "display_name": "Python 3 (ipykernel)",
   "language": "python",
   "name": "python3"
  },
  "language_info": {
   "codemirror_mode": {
    "name": "ipython",
    "version": 3
   },
   "file_extension": ".py",
   "mimetype": "text/x-python",
   "name": "python",
   "nbconvert_exporter": "python",
   "pygments_lexer": "ipython3",
   "version": "3.10.15"
  }
 },
 "nbformat": 4,
 "nbformat_minor": 5
}
