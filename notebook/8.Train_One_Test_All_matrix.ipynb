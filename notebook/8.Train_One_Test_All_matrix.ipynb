{
 "cells": [
  {
   "cell_type": "code",
   "execution_count": 3,
   "id": "91e7eb02",
   "metadata": {},
   "outputs": [],
   "source": [
    "date = \"20250519\""
   ]
  },
  {
   "cell_type": "code",
   "execution_count": 4,
   "id": "baf0edbc",
   "metadata": {},
   "outputs": [],
   "source": [
    "import pandas as pd\n",
    "import numpy as np\n",
    "from pandas import ExcelWriter\n",
    "import os\n",
    "import openpyxl\n",
    "from collections import Counter"
   ]
  },
  {
   "cell_type": "code",
   "execution_count": 3,
   "id": "e6cb7284",
   "metadata": {},
   "outputs": [],
   "source": [
    "_cellines = ['A549','GM12878','H1.hESC','HeLa.S3','HepG2','HT1080','HUVEC','IMR.90','K562','MCF.7','NCI.H460','NHEK','SK.MEL.5','SK.N.DZ','SK.N.SH']"
   ]
  },
  {
   "cell_type": "markdown",
   "id": "2f22f719",
   "metadata": {},
   "source": [
    "## by threshold"
   ]
  },
  {
   "cell_type": "markdown",
   "id": "c7a4382c",
   "metadata": {},
   "source": [
    "# <font color=\"blue\">by cell lines</font>"
   ]
  },
  {
   "cell_type": "code",
   "execution_count": 12,
   "id": "67af8173",
   "metadata": {
    "scrolled": true
   },
   "outputs": [
    {
     "name": "stdout",
     "output_type": "stream",
     "text": [
      "../results/Train_one_test_all/mer6_20250519/10fold_train_A549_test_A549_training_length_200_5000_rawcounts_0_RF_6mer0miss_test0.xlsx\n",
      "../results/Train_one_test_all/mer6_20250519/10fold_train_A549_test_GM12878_training_length_200_5000_rawcounts_0_RF_6mer0miss_test0.xlsx\n",
      "../results/Train_one_test_all/mer6_20250519/10fold_train_A549_test_HeLa.S3_training_length_200_5000_rawcounts_0_RF_6mer0miss_test0.xlsx\n",
      "../results/Train_one_test_all/mer6_20250519/10fold_train_GM12878_test_A549_training_length_200_5000_rawcounts_0_RF_6mer0miss_test0.xlsx\n",
      "../results/Train_one_test_all/mer6_20250519/10fold_train_GM12878_test_GM12878_training_length_200_5000_rawcounts_0_RF_6mer0miss_test0.xlsx\n",
      "../results/Train_one_test_all/mer6_20250519/10fold_train_GM12878_test_HeLa.S3_training_length_200_5000_rawcounts_0_RF_6mer0miss_test0.xlsx\n",
      "../results/Train_one_test_all/mer6_20250519/10fold_train_HeLa.S3_test_A549_training_length_200_5000_rawcounts_0_RF_6mer0miss_test0.xlsx\n",
      "../results/Train_one_test_all/mer6_20250519/10fold_train_HeLa.S3_test_GM12878_training_length_200_5000_rawcounts_0_RF_6mer0miss_test0.xlsx\n",
      "../results/Train_one_test_all/mer6_20250519/10fold_train_HeLa.S3_test_HeLa.S3_training_length_200_5000_rawcounts_0_RF_6mer0miss_test0.xlsx\n"
     ]
    }
   ],
   "source": [
    "_threshold = [\"0\"]\n",
    "\n",
    "K = 6\n",
    "Q = 0\n",
    "kmer = [(K,Q)]\n",
    "\n",
    "path_input = \"../results/Train_one_test_all/mer%s_%s/\"%(K,date)\n",
    "\n",
    "encoding = \"rawcounts\"\n",
    "\n",
    "### 1DCNN\n",
    "# ae = \"AE_MLP\"\n",
    "# _model_type = [\"1DCNN\"]\n",
    "# encoding_dim = 512\n",
    "\n",
    "_model_type = [\"RF\"]\n",
    "segment = [(200,5000)]\n",
    "\n",
    "file_type = \"cell_line\"\n",
    "#Create output files\n",
    "wb = openpyxl.Workbook()\n",
    "\n",
    "out_file = path_input + \"train_one_test_all_%smer%smiss_with_std.xlsx\"%(K,Q)\n",
    "wb.save(out_file)\n",
    "writer = ExcelWriter(out_file, engine='openpyxl',mode='a')\n",
    "\n",
    "all_oa = pd.DataFrame()\n",
    "all_auc = pd.DataFrame()\n",
    "\n",
    "for Cell_train in _celline:   \n",
    "    \n",
    "    df_stat_oa = pd.DataFrame()\n",
    "    df_stat_auc = pd.DataFrame()\n",
    "      \n",
    "    for (m,n) in segment:\n",
    "        \n",
    "        for model_type in _model_type:\n",
    "            \n",
    "            \n",
    "            for Cell_test in _celline:       \n",
    "\n",
    "                for (K,Q) in kmer:\n",
    "\n",
    "                    for threshold in _threshold:\n",
    "                        in_file = path_input + \"10fold_train_%s_test_%s_training_length_%s_%s_%s_%s_%s_%smer%smiss_test0.xlsx\"%(Cell_train,Cell_test,m,n,encoding,threshold,model_type,K,Q)\n",
    "                        xl = pd.ExcelFile(in_file)\n",
    "                        print(in_file)\n",
    "                        _cell = []\n",
    "                        for i in range(1,11):\n",
    "                            _cell.append(xl.parse(f\"eva{i}\",index_col=0))\n",
    "                        dff = pd.concat(_cell).groupby(level=0).mean()\n",
    "                        std = pd.concat(_cell).groupby(level=0).std()\n",
    "#                         cell_avg = round(dff,2).astype(str) + \" ± \" + round(std,2).astype(str) ## with std\n",
    "                        cell_avg = round(dff,2) \n",
    "                        auc_oa = cell_avg[[\"OA\",\"AUC\"]]\n",
    "                        auc_oa = pd.DataFrame(auc_oa.loc[0]).T\n",
    "                        auc_oa.columns = [\"%s_oa\"%(Cell_test), \"%s_auc\"%(Cell_test)]\n",
    "                        auc_oa.index = [f'{Cell_train}']\n",
    "                        df_stat_oa = pd.concat([df_stat_oa,auc_oa[\"%s_oa\"%(Cell_test)]],axis=1)\n",
    "                        df_stat_auc = pd.concat([df_stat_auc,auc_oa[\"%s_auc\"%(Cell_test)]],axis=1)\n",
    "    all_oa = pd.concat([all_oa,df_stat_oa],axis=0)    \n",
    "    all_auc = pd.concat([all_auc,df_stat_auc],axis=0)\n",
    "    \n",
    "all_oa.columns = [col.replace('_oa', '') for col in all_oa.columns]\n",
    "all_auc.columns = [col.replace('_auc', '') for col in all_auc.columns]\n",
    "all_oa.to_excel(writer,sheet_name=\"oa\")\n",
    "all_auc.to_excel(writer,sheet_name=\"auc\")\n",
    "writer.close()\n"
   ]
  }
 ],
 "metadata": {
  "kernelspec": {
   "display_name": "Python 3 (ipykernel)",
   "language": "python",
   "name": "python3"
  },
  "language_info": {
   "codemirror_mode": {
    "name": "ipython",
    "version": 3
   },
   "file_extension": ".py",
   "mimetype": "text/x-python",
   "name": "python",
   "nbconvert_exporter": "python",
   "pygments_lexer": "ipython3",
   "version": "3.10.15"
  }
 },
 "nbformat": 4,
 "nbformat_minor": 5
}
